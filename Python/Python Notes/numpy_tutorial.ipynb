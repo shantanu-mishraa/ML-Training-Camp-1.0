{
  "nbformat": 4,
  "nbformat_minor": 0,
  "metadata": {
    "colab": {
      "provenance": []
    },
    "kernelspec": {
      "name": "python3",
      "display_name": "Python 3"
    },
    "language_info": {
      "name": "python"
    }
  },
  "cells": [
    {
      "cell_type": "markdown",
      "source": [
        "What is data analysis ?"
      ],
      "metadata": {
        "id": "SW5TtqZK75lK"
      }
    },
    {
      "cell_type": "code",
      "execution_count": null,
      "metadata": {
        "colab": {
          "base_uri": "https://localhost:8080/"
        },
        "id": "XCTX25vNYs_B",
        "outputId": "6b04de56-a886-4c9b-cf4b-4b7a35eb3e23"
      },
      "outputs": [
        {
          "output_type": "stream",
          "name": "stdout",
          "text": [
            "[1 2 3 4 5]\n"
          ]
        }
      ],
      "source": [
        "import numpy as np\n",
        "arr=np.array([1,2,3,4,5])\n",
        "print(arr)"
      ]
    },
    {
      "cell_type": "code",
      "source": [
        "x=[7,8,9,0]\n",
        "a=np.array(x)     #list to numpy array\n",
        "print(a)"
      ],
      "metadata": {
        "colab": {
          "base_uri": "https://localhost:8080/"
        },
        "id": "BEde3rh0YvVF",
        "outputId": "b2e1a344-5c55-4eae-f994-bc030422e645"
      },
      "execution_count": null,
      "outputs": [
        {
          "output_type": "stream",
          "name": "stdout",
          "text": [
            "[7 8 9 0]\n"
          ]
        }
      ]
    },
    {
      "cell_type": "code",
      "source": [
        "li=[] #create an empty list and input values\n",
        "for i in range(3):\n",
        "    val=np.random.randint(0,5)\n",
        "    li.append(val)\n",
        "print(li)\n",
        "li2 = np.array(li,ndmin = 6)\n",
        "li2\n",
        "print(li2.ndim)"
      ],
      "metadata": {
        "colab": {
          "base_uri": "https://localhost:8080/"
        },
        "id": "X3QYn79rYzq5",
        "outputId": "952d489f-6d37-4088-8b1d-8307252daa9c"
      },
      "execution_count": null,
      "outputs": [
        {
          "output_type": "stream",
          "name": "stdout",
          "text": [
            "[4, 2, 2]\n",
            "6\n"
          ]
        }
      ]
    },
    {
      "cell_type": "markdown",
      "source": [
        "types of arrays"
      ],
      "metadata": {
        "id": "KhDxZS0XK8hw"
      }
    },
    {
      "cell_type": "code",
      "source": [
        "arr3=np.zeros((3,4))\n",
        "print(arr3)\n",
        "art = np.array([[1,2,3],[1,23,4]])\n",
        "art"
      ],
      "metadata": {
        "id": "m7qrbeEVaMw3",
        "colab": {
          "base_uri": "https://localhost:8080/"
        },
        "outputId": "23fba694-41d6-4e89-9e31-fbb8148382db"
      },
      "execution_count": null,
      "outputs": [
        {
          "output_type": "stream",
          "name": "stdout",
          "text": [
            "[[0. 0. 0. 0.]\n",
            " [0. 0. 0. 0.]\n",
            " [0. 0. 0. 0.]]\n"
          ]
        },
        {
          "output_type": "execute_result",
          "data": {
            "text/plain": [
              "array([[ 1,  2,  3],\n",
              "       [ 1, 23,  4]])"
            ]
          },
          "metadata": {},
          "execution_count": 4
        }
      ]
    },
    {
      "cell_type": "code",
      "source": [
        "arr4 = np.ones((3,4))\n",
        "print(arr4)"
      ],
      "metadata": {
        "id": "NiELrltPZeze",
        "colab": {
          "base_uri": "https://localhost:8080/"
        },
        "outputId": "380cdd1a-9d8f-4a9f-b4fe-65660b033a16"
      },
      "execution_count": null,
      "outputs": [
        {
          "output_type": "stream",
          "name": "stdout",
          "text": [
            "[[1. 1. 1. 1.]\n",
            " [1. 1. 1. 1.]\n",
            " [1. 1. 1. 1.]]\n"
          ]
        }
      ]
    },
    {
      "cell_type": "code",
      "source": [
        "arr5 = np.empty((3,4))\n",
        "print(arr5) # 1 beacause displays result of previous memeory as an empty"
      ],
      "metadata": {
        "colab": {
          "base_uri": "https://localhost:8080/"
        },
        "id": "9DcWeAn4OAaW",
        "outputId": "a4d61370-87d9-40b5-b0a9-264504995c5a"
      },
      "execution_count": null,
      "outputs": [
        {
          "output_type": "stream",
          "name": "stdout",
          "text": [
            "[[1. 1. 1. 1.]\n",
            " [1. 1. 1. 1.]\n",
            " [1. 1. 1. 1.]]\n"
          ]
        }
      ]
    },
    {
      "cell_type": "code",
      "source": [
        "arr6 = np.arange(3)\n",
        "print(arr6)"
      ],
      "metadata": {
        "colab": {
          "base_uri": "https://localhost:8080/"
        },
        "id": "FdzV2almOA-t",
        "outputId": "33118397-dedf-4bbc-9d63-9f2232f20d54"
      },
      "execution_count": null,
      "outputs": [
        {
          "output_type": "stream",
          "name": "stdout",
          "text": [
            "[0 1 2]\n"
          ]
        }
      ]
    },
    {
      "cell_type": "code",
      "source": [
        "arr7 = np.eye(4)\n",
        "print(arr7)"
      ],
      "metadata": {
        "colab": {
          "base_uri": "https://localhost:8080/"
        },
        "id": "H2L1AT-xPXw3",
        "outputId": "7be71f9d-75d1-4922-f8a9-3169bc988e81"
      },
      "execution_count": null,
      "outputs": [
        {
          "output_type": "stream",
          "name": "stdout",
          "text": [
            "[[1. 0. 0. 0.]\n",
            " [0. 1. 0. 0.]\n",
            " [0. 0. 1. 0.]\n",
            " [0. 0. 0. 1.]]\n"
          ]
        }
      ]
    },
    {
      "cell_type": "code",
      "source": [
        "arr8 = np.eye(3,5)\n",
        "print(arr8)"
      ],
      "metadata": {
        "colab": {
          "base_uri": "https://localhost:8080/"
        },
        "id": "25VMvDIYPyAo",
        "outputId": "8b0b1d10-7855-4121-aca5-a26c363c70f8"
      },
      "execution_count": null,
      "outputs": [
        {
          "output_type": "stream",
          "name": "stdout",
          "text": [
            "[[1. 0. 0. 0. 0.]\n",
            " [0. 1. 0. 0. 0.]\n",
            " [0. 0. 1. 0. 0.]]\n"
          ]
        }
      ]
    },
    {
      "cell_type": "code",
      "source": [
        "import numpy as np\n",
        "arr9 = np.linspace(0,16,num = 5) #printing 5 values having same gap between each values\n",
        "print(arr9)"
      ],
      "metadata": {
        "colab": {
          "base_uri": "https://localhost:8080/"
        },
        "id": "H8NkNAcPQBE2",
        "outputId": "abc69547-f159-44f0-8b4f-8df805a1142b"
      },
      "execution_count": null,
      "outputs": [
        {
          "output_type": "stream",
          "name": "stdout",
          "text": [
            "[ 0.  4.  8. 12. 16.]\n"
          ]
        }
      ]
    },
    {
      "cell_type": "markdown",
      "source": [
        "random"
      ],
      "metadata": {
        "id": "vTsF9nAMd8LQ"
      }
    },
    {
      "cell_type": "code",
      "source": [
        "print(np.random.rand(1,5))   ##########print random between 1 and 5\n",
        "print(np.random.rand(4)) #4 is no.of values\n",
        "print()\n",
        "print(np.random.rand(4,4)) #no. of values+mat size"
      ],
      "metadata": {
        "colab": {
          "base_uri": "https://localhost:8080/"
        },
        "id": "5xntor09QBdm",
        "outputId": "801e0f14-b77f-4b72-a1e2-568a73e8ab4f"
      },
      "execution_count": null,
      "outputs": [
        {
          "output_type": "stream",
          "name": "stdout",
          "text": [
            "[[0.08324246 0.98389226 0.60126872 0.11881633 0.08642142]]\n",
            "[0.39673926 0.14366011 0.22653733 0.66867441]\n",
            "\n",
            "[[0.67849708 0.43958703 0.26612405 0.77422338]\n",
            " [0.03796341 0.87020429 0.81598555 0.65132896]\n",
            " [0.5841785  0.17254801 0.60389663 0.87276901]\n",
            " [0.69108203 0.85123624 0.68102859 0.76605497]]\n"
          ]
        }
      ]
    },
    {
      "cell_type": "code",
      "source": [
        "print(np.random.randn(4)) #includes -ve values\n",
        "print(np.random.ranf(4)) #includes zero"
      ],
      "metadata": {
        "colab": {
          "base_uri": "https://localhost:8080/"
        },
        "id": "y05hj872QBkG",
        "outputId": "66b45fba-0e08-4b12-96dd-b5e8b195158f"
      },
      "execution_count": null,
      "outputs": [
        {
          "output_type": "stream",
          "name": "stdout",
          "text": [
            "[ 0.71146448 -1.78009812 -0.56347378 -0.89343767]\n",
            "[0.22229249 0.70315663 0.70901308 0.24538493]\n",
            "[[ 0.1542951  -1.09502406  0.84528298  0.66283581 -1.83680345]]\n"
          ]
        }
      ]
    },
    {
      "cell_type": "code",
      "source": [
        "print(np.random.randint(5,20,7)) # 7no. between 5 and 20"
      ],
      "metadata": {
        "colab": {
          "base_uri": "https://localhost:8080/"
        },
        "id": "VruyMGuNQBrO",
        "outputId": "3084a964-f769-4068-f4ed-e1aa135d4305"
      },
      "execution_count": null,
      "outputs": [
        {
          "output_type": "stream",
          "name": "stdout",
          "text": [
            "[15  5 12 12 19 11  7]\n"
          ]
        }
      ]
    },
    {
      "cell_type": "markdown",
      "source": [
        "**datatype in numpy array**\n",
        "\n",
        "*   strings - used to represent text data, the text is given under quote marks. e.g. \"ABCD\"\n",
        "*   integer - used to represent integer numbers. e.g. -1, -2, -3\n",
        "\n",
        "*   float - used to represent real numbers. e.g. 1.2, 42.42\n",
        "\n",
        "*   boolean - used to represent True or False.\n",
        "*   complex - used to represent complex numbers. e.g. 1.0 + 2.0j, 1.5 + 2.5j\n",
        "\n",
        "\n",
        "\n",
        "\n",
        "i - integer\n",
        "\n",
        "b - boolean\n",
        "\n",
        "u - unsigned integer\n",
        "\n",
        "f - float\n",
        "\n",
        "c - complex float\n",
        "\n",
        "m - timedelta\n",
        "\n",
        "M - datetime\n",
        "\n",
        "O - object\n",
        "\n",
        "S - string\n",
        "\n",
        "U - unicode string\n",
        "\n",
        "V - fixed chunk of memory for other type ( void )\n"
      ],
      "metadata": {
        "id": "3LgU-DlzfhAo"
      }
    },
    {
      "cell_type": "code",
      "source": [
        "var = np.array([1,2,3,4,5])\n",
        "print(var.dtype)"
      ],
      "metadata": {
        "colab": {
          "base_uri": "https://localhost:8080/"
        },
        "id": "A94zKGUQffAx",
        "outputId": "c6eaaeaf-d257-4c94-93f4-8aa5c50c17a2"
      },
      "execution_count": null,
      "outputs": [
        {
          "output_type": "stream",
          "name": "stdout",
          "text": [
            "int64\n"
          ]
        }
      ]
    },
    {
      "cell_type": "code",
      "source": [
        "new = np.array([1,2,3,4],dtype='S')\n",
        "print(new.dtype)\n",
        "new1 = np.array([1,2,3,4],dtype = \"f\")\n",
        "print(new1.dtype)\n",
        "print(new1)"
      ],
      "metadata": {
        "colab": {
          "base_uri": "https://localhost:8080/"
        },
        "id": "RFXyIWoTQByd",
        "outputId": "0968c84a-b6c8-4729-8e33-96004fc1bb4f"
      },
      "execution_count": null,
      "outputs": [
        {
          "output_type": "stream",
          "name": "stdout",
          "text": [
            "|S1\n",
            "float32\n",
            "[1. 2. 3. 4.]\n"
          ]
        }
      ]
    },
    {
      "cell_type": "code",
      "source": [
        "new2 = np.int_(new1)\n",
        "print(new2.dtype)\n",
        "print(new2)\n",
        "\n",
        "####astype***\n",
        "\n",
        "new3 = new2.astype(str)\n",
        "print(new3.dtype)\n",
        "print(new3)"
      ],
      "metadata": {
        "colab": {
          "base_uri": "https://localhost:8080/"
        },
        "id": "DZOqSeSqiX-N",
        "outputId": "38a050f4-fbec-452c-d862-da184350754b"
      },
      "execution_count": null,
      "outputs": [
        {
          "output_type": "stream",
          "name": "stdout",
          "text": [
            "int64\n",
            "[1 2 3 4]\n",
            "<U21\n",
            "['1' '2' '3' '4']\n"
          ]
        }
      ]
    },
    {
      "cell_type": "markdown",
      "source": [
        "ARITHMATIC OPERATIONS IN NUMPY"
      ],
      "metadata": {
        "id": "j9suB5DokBOn"
      }
    },
    {
      "cell_type": "code",
      "source": [
        "m = np.array([1,2,3,4])\n",
        "m = m+2  #added 2 with all the elements\n",
        "print(m)"
      ],
      "metadata": {
        "colab": {
          "base_uri": "https://localhost:8080/"
        },
        "id": "CqzKIXGAkAfj",
        "outputId": "b920f118-1778-40cf-ee79-4e2fa58e0d19"
      },
      "execution_count": null,
      "outputs": [
        {
          "output_type": "stream",
          "name": "stdout",
          "text": [
            "[3 4 5 6]\n"
          ]
        }
      ]
    },
    {
      "cell_type": "code",
      "source": [
        "n = ([5,8,6,7])\n",
        "n = n%m #rem of consicutive 2 arrays (must have equal length)\n",
        "print(n)"
      ],
      "metadata": {
        "colab": {
          "base_uri": "https://localhost:8080/"
        },
        "id": "XjHVOSYPiYQr",
        "outputId": "94601c7c-1620-4fc2-fc8a-96bf0c61e1fa"
      },
      "execution_count": null,
      "outputs": [
        {
          "output_type": "stream",
          "name": "stdout",
          "text": [
            "[2 0 1 1]\n"
          ]
        }
      ]
    },
    {
      "cell_type": "markdown",
      "source": [
        "Arithmatic functions in numpy\n",
        "\n",
        "*   min()\n",
        "*   max()\n",
        "*   argmin()\n",
        "*   sqrt()\n",
        "*   sin()\n",
        "*   cos()\n",
        "\n",
        "\n"
      ],
      "metadata": {
        "id": "IReZF8jU2sEx"
      }
    },
    {
      "cell_type": "code",
      "source": [
        "var4 = np.array([1,4,7,9,3,6])\n",
        "print(np.min(var4))\n",
        "print(np.max(var4))\n",
        "print(np.sqrt(var4))\n",
        "print(np.sin(var4))"
      ],
      "metadata": {
        "id": "cSlAaboNiYWj",
        "colab": {
          "base_uri": "https://localhost:8080/"
        },
        "outputId": "2c69043d-bb59-4d60-aa36-dcab22507dd9"
      },
      "execution_count": null,
      "outputs": [
        {
          "output_type": "stream",
          "name": "stdout",
          "text": [
            "1\n",
            "9\n",
            "[1.         2.         2.64575131 3.         1.73205081 2.44948974]\n",
            "[ 0.84147098 -0.7568025   0.6569866   0.41211849  0.14112001 -0.2794155 ]\n"
          ]
        }
      ]
    },
    {
      "cell_type": "markdown",
      "source": [
        "Reshaping numpy"
      ],
      "metadata": {
        "id": "d9OYv0zRAYoJ"
      }
    },
    {
      "cell_type": "code",
      "source": [
        "var5 = np.random.randint(0,5,9)\n",
        "print(var5)\n",
        "print(var5.shape)"
      ],
      "metadata": {
        "id": "PGc5aqgKiYdM",
        "colab": {
          "base_uri": "https://localhost:8080/"
        },
        "outputId": "292b9ee5-9766-491a-814d-19f0cd099dfb"
      },
      "execution_count": null,
      "outputs": [
        {
          "output_type": "stream",
          "name": "stdout",
          "text": [
            "[4 3 3 4 2 2 0 0 1]\n",
            "(9,)\n"
          ]
        }
      ]
    },
    {
      "cell_type": "code",
      "source": [
        "var6 = np.array([[1,2,3],[4,5,6],[7,8,9]])\n",
        "print(var6)\n",
        "print(var6.shape)"
      ],
      "metadata": {
        "id": "qvbRGen2iYkD",
        "colab": {
          "base_uri": "https://localhost:8080/"
        },
        "outputId": "922154ce-d4c2-4427-8484-f02f6af7bd9d"
      },
      "execution_count": null,
      "outputs": [
        {
          "output_type": "stream",
          "name": "stdout",
          "text": [
            "[[1 2 3]\n",
            " [4 5 6]\n",
            " [7 8 9]]\n",
            "(3, 3)\n"
          ]
        }
      ]
    },
    {
      "cell_type": "code",
      "source": [
        "dim2 = var5.reshape(3,3)\n",
        "print(dim2)\n",
        "print()\n",
        "print(dim2.ndim)"
      ],
      "metadata": {
        "colab": {
          "base_uri": "https://localhost:8080/"
        },
        "id": "8eM6QOKZE22_",
        "outputId": "e91cfd02-95b6-4904-fa7f-e962bce28c2a"
      },
      "execution_count": null,
      "outputs": [
        {
          "output_type": "stream",
          "name": "stdout",
          "text": [
            "[[4 3 3]\n",
            " [4 2 2]\n",
            " [0 0 1]]\n",
            "\n",
            "2\n"
          ]
        }
      ]
    },
    {
      "cell_type": "code",
      "source": [
        "dim3 = dim2.reshape(-1)\n",
        "print(dim3.shape)\n",
        "print(dim3)"
      ],
      "metadata": {
        "colab": {
          "base_uri": "https://localhost:8080/"
        },
        "id": "1U-mIplUE3CO",
        "outputId": "12db8f46-b972-48ba-e90a-5507f328441a"
      },
      "execution_count": null,
      "outputs": [
        {
          "output_type": "stream",
          "name": "stdout",
          "text": [
            "(9,)\n",
            "[4 3 3 4 2 2 0 0 1]\n"
          ]
        }
      ]
    },
    {
      "cell_type": "markdown",
      "source": [
        "Broadcasting in numpy....adding matrices\n",
        "![12rt.png](data:image/png;base64,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)"
      ],
      "metadata": {
        "id": "A0oCBLvtJBC2"
      }
    },
    {
      "cell_type": "code",
      "source": [
        "var7 = np.array([1,2,3,4])\n",
        "var8 = np.array([[5],[6],[7],[8]])\n",
        "var9 = var7 + var8\n",
        "print(var9)"
      ],
      "metadata": {
        "colab": {
          "base_uri": "https://localhost:8080/"
        },
        "id": "F1ffhZtBE3H2",
        "outputId": "8134ff39-5946-43cf-dce9-a28269aa1e9e"
      },
      "execution_count": null,
      "outputs": [
        {
          "output_type": "stream",
          "name": "stdout",
          "text": [
            "[[ 6  7  8  9]\n",
            " [ 7  8  9 10]\n",
            " [ 8  9 10 11]\n",
            " [ 9 10 11 12]]\n"
          ]
        }
      ]
    },
    {
      "cell_type": "markdown",
      "source": [
        "Indexing and Slicing"
      ],
      "metadata": {
        "id": "6og0TgpeOnmQ"
      }
    },
    {
      "cell_type": "code",
      "source": [
        "print(var9[2,2])"
      ],
      "metadata": {
        "colab": {
          "base_uri": "https://localhost:8080/"
        },
        "id": "OO-L67yJE3NW",
        "outputId": "94ccbcfc-78e3-4875-b303-9825a0107d9a"
      },
      "execution_count": null,
      "outputs": [
        {
          "output_type": "stream",
          "name": "stdout",
          "text": [
            "10\n"
          ]
        }
      ]
    },
    {
      "cell_type": "code",
      "source": [
        "print(var9[2,0::1]) #2nd row from 0 to last having stepsize 1"
      ],
      "metadata": {
        "colab": {
          "base_uri": "https://localhost:8080/"
        },
        "id": "uWDKDhkoJkdS",
        "outputId": "11581a4b-1ea6-4bdb-8069-e04f07d25f68"
      },
      "execution_count": null,
      "outputs": [
        {
          "output_type": "stream",
          "name": "stdout",
          "text": [
            "[ 8  9 10 11]\n"
          ]
        }
      ]
    },
    {
      "cell_type": "markdown",
      "source": [
        "iteration in numpy arrays"
      ],
      "metadata": {
        "id": "6jTTh1gQJVWz"
      }
    },
    {
      "cell_type": "code",
      "source": [
        "a = np.array([1,2,3,5])\n",
        "for i in a:\n",
        "  print(i)"
      ],
      "metadata": {
        "colab": {
          "base_uri": "https://localhost:8080/"
        },
        "id": "sOJZx9JnJVqx",
        "outputId": "1e4bb224-01b1-4e51-dbf8-614d0bd22a54"
      },
      "execution_count": null,
      "outputs": [
        {
          "output_type": "stream",
          "name": "stdout",
          "text": [
            "1\n",
            "2\n",
            "3\n",
            "5\n"
          ]
        }
      ]
    },
    {
      "cell_type": "code",
      "source": [
        "a1 = np.array([[1,2,3,4],[5,6,7,8],[9,0,5,3]])\n",
        "for i in a1:\n",
        "  print(i)\n",
        "  #notice the difference\n",
        "print()\n",
        "for i in a1:\n",
        "  for k in i:\n",
        "    print(k)"
      ],
      "metadata": {
        "colab": {
          "base_uri": "https://localhost:8080/"
        },
        "id": "qzAy24XzJVzC",
        "outputId": "95a52670-4b3f-4123-c5f7-a564dd814e74"
      },
      "execution_count": null,
      "outputs": [
        {
          "output_type": "stream",
          "name": "stdout",
          "text": [
            "[1 2 3 4]\n",
            "[5 6 7 8]\n",
            "[9 0 5 3]\n",
            "\n",
            "1\n",
            "2\n",
            "3\n",
            "4\n",
            "5\n",
            "6\n",
            "7\n",
            "8\n",
            "9\n",
            "0\n",
            "5\n",
            "3\n"
          ]
        }
      ]
    },
    {
      "cell_type": "code",
      "source": [
        "#or simply use nditer() function\n",
        "for i in np.nditer(a1):\n",
        "  print(i)"
      ],
      "metadata": {
        "colab": {
          "base_uri": "https://localhost:8080/"
        },
        "id": "CnpyBzf5LDFS",
        "outputId": "965f0a93-aa75-40ae-99a3-3f27fcaf048a"
      },
      "execution_count": null,
      "outputs": [
        {
          "output_type": "stream",
          "name": "stdout",
          "text": [
            "1\n",
            "2\n",
            "3\n",
            "4\n",
            "5\n",
            "6\n",
            "7\n",
            "8\n",
            "9\n",
            "0\n",
            "5\n",
            "3\n"
          ]
        }
      ]
    },
    {
      "cell_type": "code",
      "source": [
        "#if index of iterated values is needed\n",
        "for i,d in np.ndenumerate(a1):\n",
        "  print(i,d)"
      ],
      "metadata": {
        "colab": {
          "base_uri": "https://localhost:8080/"
        },
        "id": "HMy4T8nhLDP6",
        "outputId": "416846bf-39ce-4a2f-c970-6731f036ed12"
      },
      "execution_count": null,
      "outputs": [
        {
          "output_type": "stream",
          "name": "stdout",
          "text": [
            "(0, 0) 1\n",
            "(0, 1) 2\n",
            "(0, 2) 3\n",
            "(0, 3) 4\n",
            "(1, 0) 5\n",
            "(1, 1) 6\n",
            "(1, 2) 7\n",
            "(1, 3) 8\n",
            "(2, 0) 9\n",
            "(2, 1) 0\n",
            "(2, 2) 5\n",
            "(2, 3) 3\n"
          ]
        }
      ]
    },
    {
      "cell_type": "markdown",
      "source": [
        "**copy and view functions**\n",
        "\n",
        "changes made in copy do not change original data\n",
        "changes made in copied data by view chnges the original data"
      ],
      "metadata": {
        "id": "Y1aAqz2mPShP"
      }
    },
    {
      "cell_type": "code",
      "source": [
        "a3 = np.array([1,2,3,4])\n",
        "a4 = a3.copy()\n",
        "a4[2] = 33\n",
        "print(a4)\n",
        "print(a3)"
      ],
      "metadata": {
        "colab": {
          "base_uri": "https://localhost:8080/"
        },
        "id": "NvkJh41oLDWq",
        "outputId": "a416bbf6-599b-4b04-dd6b-892f6020ba98"
      },
      "execution_count": null,
      "outputs": [
        {
          "output_type": "stream",
          "name": "stdout",
          "text": [
            "[ 1  2 33  4]\n",
            "[1 2 3 4]\n"
          ]
        }
      ]
    },
    {
      "cell_type": "code",
      "source": [
        "a5 = a3.view()\n",
        "a5[3] = 55\n",
        "print(a5)\n",
        "print(a3) "
      ],
      "metadata": {
        "colab": {
          "base_uri": "https://localhost:8080/"
        },
        "id": "_XLnZjzwLDda",
        "outputId": "bd772324-d970-47fe-8584-905c62c3c8de"
      },
      "execution_count": null,
      "outputs": [
        {
          "output_type": "stream",
          "name": "stdout",
          "text": [
            "[ 1  2  3 55]\n",
            "[ 1  2  3 55]\n"
          ]
        }
      ]
    },
    {
      "cell_type": "markdown",
      "source": [
        "Array concatination\n",
        "\n",
        "*   using concatenate()\n",
        "*   stack operaetions\n",
        "\n"
      ],
      "metadata": {
        "id": "PXk3DMONsEH4"
      }
    },
    {
      "cell_type": "code",
      "source": [
        "a6 = np.array([1,2,3])\n",
        "a7 = np.array([4,5,6])\n",
        "a9 = np.concatenate((a6,a7),axis = 0) #one dimension to one dimension concatination\n",
        "print(a9)\n",
        "print()\n",
        "ab1 = np.array([[1,2,3],[4,5,6]])\n",
        "ab2 = np.array([[7,8,9],[10,11,12]])\n",
        "ab3 = np.concatenate((ab1,ab2),axis = 1)   #two dimension to two dimension concatination\n",
        "print(ab3)\n",
        "print()\n",
        "\n",
        "#this will not work as 1 dim is changed to 2\n",
        "'''a10 = np.concatenate((a6,a7),axis = 1)\n",
        "print(a10)'''"
      ],
      "metadata": {
        "colab": {
          "base_uri": "https://localhost:8080/",
          "height": 122
        },
        "id": "ja0Vo7liLDkZ",
        "outputId": "5be795b6-3391-4398-bf57-82c394cfdd57"
      },
      "execution_count": null,
      "outputs": [
        {
          "output_type": "stream",
          "name": "stdout",
          "text": [
            "[1 2 3 4 5 6]\n",
            "\n",
            "[[ 1  2  3  7  8  9]\n",
            " [ 4  5  6 10 11 12]]\n",
            "\n"
          ]
        },
        {
          "output_type": "execute_result",
          "data": {
            "text/plain": [
              "'a10 = np.concatenate((a6,a7),axis = 1)\\nprint(a10)'"
            ],
            "application/vnd.google.colaboratory.intrinsic+json": {
              "type": "string"
            }
          },
          "metadata": {},
          "execution_count": 33
        }
      ]
    },
    {
      "cell_type": "markdown",
      "source": [
        "using stackm function"
      ],
      "metadata": {
        "id": "pawHZ28_YkTx"
      }
    },
    {
      "cell_type": "code",
      "source": [
        "ab4 = np.stack((a6,a7),axis = 0)\n",
        "print(ab4)\n",
        "ab5 = np.hstack((a6,a7)) #row\n",
        "print(ab5)\n",
        "ab6 = np.vstack((a6,a7)) #column\n",
        "print(ab6)\n",
        "ab7 = np.dstack((a6,a7)) #height\n",
        "print(ab7)"
      ],
      "metadata": {
        "colab": {
          "base_uri": "https://localhost:8080/"
        },
        "id": "Ge4GUr2eLDsB",
        "outputId": "1de897d5-5d0f-42e4-ab09-9ab4ac7d9ec5"
      },
      "execution_count": null,
      "outputs": [
        {
          "output_type": "stream",
          "name": "stdout",
          "text": [
            "[[1 2 3]\n",
            " [4 5 6]]\n",
            "[1 2 3 4 5 6]\n",
            "[[1 2 3]\n",
            " [4 5 6]]\n",
            "[[[1 4]\n",
            "  [2 5]\n",
            "  [3 6]]]\n"
          ]
        }
      ]
    },
    {
      "cell_type": "markdown",
      "source": [
        "Sorting the numpy array\n",
        "\n",
        "sort()\n",
        "\n",
        ">can sort array of any dimensions\n",
        "\n",
        ">can sort string"
      ],
      "metadata": {
        "id": "2z-yFQVPyJwG"
      }
    },
    {
      "cell_type": "code",
      "source": [
        "aa = np.array([2,4,1,8,6,4,0,5,12,56])\n",
        "aa2 = np.sort(aa)\n",
        "print(aa2)\n",
        "print()\n",
        "aa3 = np.array([\"valo\",\"cs\",\"pubg\",\"cod\",\"bgmi\",\"fhz\"])\n",
        "print(np.sort(aa3))\n",
        "print()\n",
        "aa4 = np.array([[1,5,3],[7,8,4],[9,0,6]])\n",
        "print(np.sort(aa4))"
      ],
      "metadata": {
        "colab": {
          "base_uri": "https://localhost:8080/"
        },
        "id": "jAj_bCxgyPUn",
        "outputId": "f3751e19-a7a8-439d-9d02-8e8258300d5f"
      },
      "execution_count": null,
      "outputs": [
        {
          "output_type": "stream",
          "name": "stdout",
          "text": [
            "[ 0  1  2  4  4  5  6  8 12 56]\n",
            "\n",
            "['bgmi' 'cod' 'cs' 'fhz' 'pubg' 'valo']\n",
            "\n",
            "[[1 3 5]\n",
            " [4 7 8]\n",
            " [0 6 9]]\n"
          ]
        }
      ]
    },
    {
      "cell_type": "markdown",
      "source": [
        "Searching the position/index of numpy array element\n",
        "\n",
        "where()"
      ],
      "metadata": {
        "id": "wvvsmB9guggi"
      }
    },
    {
      "cell_type": "code",
      "source": [
        "az1 = np.array([1,2,3,4,5,6,7,8,9,0])\n",
        "val1 = np.where(az1 == 2)\n",
        "print(val1)\n",
        "print()\n",
        "val2 = np.where((az1%2)==0)\n",
        "print(val2)"
      ],
      "metadata": {
        "id": "pyXQyl2RLDza",
        "colab": {
          "base_uri": "https://localhost:8080/"
        },
        "outputId": "c0e75551-38fb-4b6c-d3e3-1dd58ae2ab86"
      },
      "execution_count": null,
      "outputs": [
        {
          "output_type": "stream",
          "name": "stdout",
          "text": [
            "(array([1]),)\n",
            "\n",
            "(array([1, 3, 5, 7, 9]),)\n"
          ]
        }
      ]
    },
    {
      "cell_type": "markdown",
      "source": [
        "Knowing the indices of elements to be inserted into numpy array\n",
        "i.e. where will the elements lie if inserted into array"
      ],
      "metadata": {
        "id": "S_dJqowXvry1"
      }
    },
    {
      "cell_type": "code",
      "source": [
        "az1 = np.array([1,2,3,4,5,8,9,10])\n",
        "az2 = np.searchsorted(az1 , [6,89])\n",
        "print(az1)\n",
        "print(az2) #elements [6,7] will be inserted at indices [5,5]\n"
      ],
      "metadata": {
        "id": "EVuP4wb5LD6x",
        "colab": {
          "base_uri": "https://localhost:8080/"
        },
        "outputId": "3ed38b4c-ac7a-4266-fbf7-e696f3163ab8"
      },
      "execution_count": null,
      "outputs": [
        {
          "output_type": "stream",
          "name": "stdout",
          "text": [
            "[ 1  2  3  4  5  8  9 10]\n",
            "[5 8]\n"
          ]
        }
      ]
    },
    {
      "cell_type": "markdown",
      "source": [
        "Filter array (not necessary)"
      ],
      "metadata": {
        "id": "Uu1jWzb4yG2o"
      }
    },
    {
      "cell_type": "code",
      "source": [
        "az3 = np.array([\"a\",\"b\",\"c\",\"d\"])\n",
        "az4 = [True,False,False,True]\n",
        "az5 = az3[az4]\n",
        "print(az5)\n"
      ],
      "metadata": {
        "colab": {
          "base_uri": "https://localhost:8080/"
        },
        "id": "NwhikZxFx9av",
        "outputId": "5b4fe97a-75cf-4fc4-f49b-cb21142db78d"
      },
      "execution_count": null,
      "outputs": [
        {
          "output_type": "stream",
          "name": "stdout",
          "text": [
            "['a' 'd']\n"
          ]
        }
      ]
    },
    {
      "cell_type": "markdown",
      "source": [
        "MATRIX"
      ],
      "metadata": {
        "id": "OIQbw5-25-Mj"
      }
    },
    {
      "cell_type": "code",
      "source": [
        "mat1 = np.array([[1,2,3],[4,5,6],[7,8,9]])\n",
        "print(type(mat1))\n",
        "\n",
        "########################\n",
        "\n",
        "mat2 = np.matrix([[1,2,3],[4,5,6],[7,8,9]])\n",
        "print(type(mat2))"
      ],
      "metadata": {
        "id": "uXctFG5f0doe",
        "colab": {
          "base_uri": "https://localhost:8080/"
        },
        "outputId": "aa8c67bc-6dcb-44dd-fe69-a695be7d4a04"
      },
      "execution_count": null,
      "outputs": [
        {
          "output_type": "stream",
          "name": "stdout",
          "text": [
            "<class 'numpy.ndarray'>\n",
            "<class 'numpy.matrix'>\n"
          ]
        }
      ]
    },
    {
      "cell_type": "code",
      "source": [
        "print(mat1 * mat1)\n",
        "print()\n",
        "print(mat2*mat2)\n",
        "print()\n",
        "print(mat2.dot(mat2))      ####function to multiply"
      ],
      "metadata": {
        "id": "_XJzUHqV0dqX",
        "colab": {
          "base_uri": "https://localhost:8080/"
        },
        "outputId": "71326fe9-4695-49fc-b7b4-3819dc610398"
      },
      "execution_count": null,
      "outputs": [
        {
          "output_type": "stream",
          "name": "stdout",
          "text": [
            "[[ 1  4  9]\n",
            " [16 25 36]\n",
            " [49 64 81]]\n",
            "\n",
            "[[ 30  36  42]\n",
            " [ 66  81  96]\n",
            " [102 126 150]]\n",
            "\n",
            "[[ 30  36  42]\n",
            " [ 66  81  96]\n",
            " [102 126 150]]\n"
          ]
        }
      ]
    },
    {
      "cell_type": "markdown",
      "source": [
        "MATRIX FUNCTIONS\n",
        "\n",
        "![image.png](data:image/png;base64,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)"
      ],
      "metadata": {
        "id": "yYEnh0TmCKmk"
      }
    },
    {
      "cell_type": "code",
      "source": [
        "print(np.transpose(mat2))  ##transpose"
      ],
      "metadata": {
        "id": "_QGXgMzJ0dtn",
        "colab": {
          "base_uri": "https://localhost:8080/"
        },
        "outputId": "a03e5ead-aa43-4f98-bcf0-82e018726d61"
      },
      "execution_count": null,
      "outputs": [
        {
          "output_type": "stream",
          "name": "stdout",
          "text": [
            "[[1 4 7]\n",
            " [2 5 8]\n",
            " [3 6 9]]\n"
          ]
        }
      ]
    },
    {
      "cell_type": "code",
      "source": [
        "print(np.swapaxes(mat2,0,1))  ##swapaxes"
      ],
      "metadata": {
        "id": "O_RwhxyV0dwF",
        "colab": {
          "base_uri": "https://localhost:8080/"
        },
        "outputId": "0c7bae96-bc4c-407c-c3a6-d350e26361d7"
      },
      "execution_count": null,
      "outputs": [
        {
          "output_type": "stream",
          "name": "stdout",
          "text": [
            "[[1 4 7]\n",
            " [2 5 8]\n",
            " [3 6 9]]\n"
          ]
        }
      ]
    },
    {
      "cell_type": "code",
      "source": [
        "mat3 = np.matrix([[1,2],[4,5]])\n",
        "print(np.linalg.inv(mat3))\n",
        "print()                        ##inverse\n",
        "A = np.matrix([[6, 1, 1],\n",
        "              [4, -2, 5],\n",
        "              [2, 8, 7]])\n",
        "print(np.linalg.inv(A))"
      ],
      "metadata": {
        "id": "Fbuk3lJf0dyj",
        "colab": {
          "base_uri": "https://localhost:8080/"
        },
        "outputId": "ca81ef22-d643-4930-f862-2424f215bd20"
      },
      "execution_count": null,
      "outputs": [
        {
          "output_type": "stream",
          "name": "stdout",
          "text": [
            "[[-1.66666667  0.66666667]\n",
            " [ 1.33333333 -0.33333333]]\n",
            "\n",
            "[[ 0.17647059 -0.00326797 -0.02287582]\n",
            " [ 0.05882353 -0.13071895  0.08496732]\n",
            " [-0.11764706  0.1503268   0.05228758]]\n"
          ]
        }
      ]
    },
    {
      "cell_type": "code",
      "source": [
        "print(np.linalg.matrix_power(mat3,0))   ##n=0 (gives identity matrix)\n",
        "print()\n",
        "print(np.linalg.matrix_power(mat3,3))   ##n>0 (normal n times matrix mult.)\n",
        "print()\n",
        "print(np.linalg.matrix_power(mat3,-2))   ##n<0 (inverse and raise to power)\n",
        "print()"
      ],
      "metadata": {
        "colab": {
          "base_uri": "https://localhost:8080/"
        },
        "id": "GM7aWT6XEiL5",
        "outputId": "f6f3880f-9ab2-462a-a824-7b070f61b7b5"
      },
      "execution_count": null,
      "outputs": [
        {
          "output_type": "stream",
          "name": "stdout",
          "text": [
            "[[1 0]\n",
            " [0 1]]\n",
            "\n",
            "[[ 57  78]\n",
            " [156 213]]\n",
            "\n",
            "[[ 3.66666667 -1.33333333]\n",
            " [-2.66666667  1.        ]]\n",
            "\n"
          ]
        }
      ]
    },
    {
      "cell_type": "code",
      "source": [
        "print(np.linalg.det(mat3))\n",
        "print()\n",
        "print(np.round(np.linalg.det(mat3)))   ##determinant"
      ],
      "metadata": {
        "colab": {
          "base_uri": "https://localhost:8080/"
        },
        "id": "RICjFshoFikw",
        "outputId": "93dbc10b-9dd8-44d7-fe4f-3c7713e550ca"
      },
      "execution_count": null,
      "outputs": [
        {
          "output_type": "stream",
          "name": "stdout",
          "text": [
            "-2.9999999999999996\n",
            "\n",
            "-3.0\n"
          ]
        }
      ]
    }
  ]
}