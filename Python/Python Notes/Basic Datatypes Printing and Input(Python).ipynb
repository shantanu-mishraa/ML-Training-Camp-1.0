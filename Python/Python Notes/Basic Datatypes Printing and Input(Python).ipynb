{
 "cells": [
  {
   "cell_type": "markdown",
   "id": "9786c122",
   "metadata": {},
   "source": [
    "###  Datatypes\n",
    "*Integer, \n",
    "*Float, \n",
    "*String, \n",
    "*Boolean, \n",
    "*Complex"
   ]
  },
  {
   "cell_type": "code",
   "execution_count": 5,
   "id": "b3884909",
   "metadata": {},
   "outputs": [
    {
     "data": {
      "text/plain": [
       "2"
      ]
     },
     "execution_count": 5,
     "metadata": {},
     "output_type": "execute_result"
    }
   ],
   "source": [
    "1+1         #basic operations"
   ]
  },
  {
   "cell_type": "code",
   "execution_count": 6,
   "id": "b6f9cd14",
   "metadata": {},
   "outputs": [
    {
     "data": {
      "text/plain": [
       "20"
      ]
     },
     "execution_count": 6,
     "metadata": {},
     "output_type": "execute_result"
    }
   ],
   "source": [
    "4*5"
   ]
  },
  {
   "cell_type": "code",
   "execution_count": 7,
   "id": "07e87f38",
   "metadata": {},
   "outputs": [
    {
     "data": {
      "text/plain": [
       "5.0"
      ]
     },
     "execution_count": 7,
     "metadata": {},
     "output_type": "execute_result"
    }
   ],
   "source": [
    "10/2"
   ]
  },
  {
   "cell_type": "code",
   "execution_count": 8,
   "id": "296aa156",
   "metadata": {},
   "outputs": [
    {
     "data": {
      "text/plain": [
       "0"
      ]
     },
     "execution_count": 8,
     "metadata": {},
     "output_type": "execute_result"
    }
   ],
   "source": [
    "10%2"
   ]
  },
  {
   "cell_type": "code",
   "execution_count": 9,
   "id": "42b81e49",
   "metadata": {},
   "outputs": [
    {
     "data": {
      "text/plain": [
       "int"
      ]
     },
     "execution_count": 9,
     "metadata": {},
     "output_type": "execute_result"
    }
   ],
   "source": [
    "type(1)                     #type(),used to find the Datatype"
   ]
  },
  {
   "cell_type": "code",
   "execution_count": 11,
   "id": "5189be69",
   "metadata": {},
   "outputs": [
    {
     "data": {
      "text/plain": [
       "str"
      ]
     },
     "execution_count": 11,
     "metadata": {},
     "output_type": "execute_result"
    }
   ],
   "source": [
    "type(\"Hello\")                   #string                      "
   ]
  },
  {
   "cell_type": "code",
   "execution_count": 1,
   "id": "bd69b3cb",
   "metadata": {},
   "outputs": [
    {
     "data": {
      "text/plain": [
       "float"
      ]
     },
     "execution_count": 1,
     "metadata": {},
     "output_type": "execute_result"
    }
   ],
   "source": [
    "type(1.6)                      #float"
   ]
  },
  {
   "cell_type": "code",
   "execution_count": 2,
   "id": "f008a317",
   "metadata": {},
   "outputs": [
    {
     "data": {
      "text/plain": [
       "bool"
      ]
     },
     "execution_count": 2,
     "metadata": {},
     "output_type": "execute_result"
    }
   ],
   "source": [
    "type(True)                     #bool"
   ]
  },
  {
   "cell_type": "code",
   "execution_count": 3,
   "id": "7a9decf7",
   "metadata": {},
   "outputs": [
    {
     "data": {
      "text/plain": [
       "complex"
      ]
     },
     "execution_count": 3,
     "metadata": {},
     "output_type": "execute_result"
    }
   ],
   "source": [
    "a = 3+4j                      #complex\n",
    "type(a)"
   ]
  },
  {
   "cell_type": "code",
   "execution_count": 14,
   "id": "894ae465",
   "metadata": {},
   "outputs": [
    {
     "data": {
      "text/plain": [
       "'Hello'"
      ]
     },
     "execution_count": 14,
     "metadata": {},
     "output_type": "execute_result"
    }
   ],
   "source": [
    "\"Hello\""
   ]
  },
  {
   "cell_type": "code",
   "execution_count": 16,
   "id": "e0abb051",
   "metadata": {},
   "outputs": [
    {
     "data": {
      "text/plain": [
       "str"
      ]
     },
     "execution_count": 16,
     "metadata": {},
     "output_type": "execute_result"
    }
   ],
   "source": [
    "type(\"Hello\")                 # Double quote and single quote are same thing\n",
    "type('Hello')"
   ]
  },
  {
   "cell_type": "code",
   "execution_count": 6,
   "id": "9e4c8c4c",
   "metadata": {},
   "outputs": [
    {
     "name": "stdout",
     "output_type": "stream",
     "text": [
      "Iron Man\n"
     ]
    }
   ],
   "source": [
    "marvel_super_hero = \"Iron Man\"             #variable\n",
    "print(marvel_super_hero)"
   ]
  },
  {
   "cell_type": "code",
   "execution_count": 3,
   "id": "43f295d5",
   "metadata": {},
   "outputs": [
    {
     "name": "stdout",
     "output_type": "stream",
     "text": [
      "Captain America\n"
     ]
    }
   ],
   "source": [
    "marvel_super_hero = \"Captain America\"             #variables names can be changed\n",
    "print(marvel_super_hero)"
   ]
  },
  {
   "cell_type": "code",
   "execution_count": 5,
   "id": "8b0acf19",
   "metadata": {},
   "outputs": [
    {
     "name": "stdout",
     "output_type": "stream",
     "text": [
      "Iron Man\n",
      "Captain America\n",
      "Bat Man\n"
     ]
    }
   ],
   "source": [
    "hero1,hero2,hero3 = \"Iron Man\", \"Captain America\", \"Bat Man\"        #Multiple variable in same line\n",
    "print(hero1)\n",
    "print(hero2)\n",
    "print(hero3)"
   ]
  },
  {
   "cell_type": "code",
   "execution_count": 7,
   "id": "76a200bd",
   "metadata": {},
   "outputs": [
    {
     "name": "stdout",
     "output_type": "stream",
     "text": [
      "23\n",
      "23\n",
      "23\n"
     ]
    }
   ],
   "source": [
    "x=y=z=23\n",
    "print(x)\n",
    "print(y)\n",
    "print(z)"
   ]
  },
  {
   "cell_type": "markdown",
   "id": "4b9a0519",
   "metadata": {},
   "source": [
    "#### Various ways of printing"
   ]
  },
  {
   "cell_type": "code",
   "execution_count": 17,
   "id": "5f19093d",
   "metadata": {},
   "outputs": [
    {
     "name": "stdout",
     "output_type": "stream",
     "text": [
      "hello\n"
     ]
    }
   ],
   "source": [
    "print(\"hello\")"
   ]
  },
  {
   "cell_type": "code",
   "execution_count": 18,
   "id": "aabad1b4",
   "metadata": {},
   "outputs": [],
   "source": [
    "first_name='Shantanu'\n",
    "last_name='Mishra'"
   ]
  },
  {
   "cell_type": "code",
   "execution_count": 19,
   "id": "2e329da9",
   "metadata": {},
   "outputs": [
    {
     "name": "stdout",
     "output_type": "stream",
     "text": [
      "My First name is Shantanu and my Last name is Mishra\n"
     ]
    }
   ],
   "source": [
    "print(\"My First name is {} and my Last name is {}\".format(first_name,last_name))"
   ]
  },
  {
   "cell_type": "code",
   "execution_count": 20,
   "id": "f719fa24",
   "metadata": {},
   "outputs": [
    {
     "name": "stdout",
     "output_type": "stream",
     "text": [
      "My First name is Shantanu and my Last name is Mishra\n"
     ]
    }
   ],
   "source": [
    "print(\"My First name is {first} and my Last name is {last}\".format(first=first_name, last=last_name))"
   ]
  },
  {
   "cell_type": "code",
   "execution_count": 21,
   "id": "b4939b0c",
   "metadata": {},
   "outputs": [
    {
     "data": {
      "text/plain": [
       "8"
      ]
     },
     "execution_count": 21,
     "metadata": {},
     "output_type": "execute_result"
    }
   ],
   "source": [
    "len('Shantanu')                                   #Used to find the lenght"
   ]
  },
  {
   "cell_type": "code",
   "execution_count": 23,
   "id": "28a6cd9b",
   "metadata": {},
   "outputs": [
    {
     "data": {
      "text/plain": [
       "9"
      ]
     },
     "execution_count": 23,
     "metadata": {},
     "output_type": "execute_result"
    }
   ],
   "source": [
    "len('123456789')"
   ]
  },
  {
   "cell_type": "markdown",
   "id": "aa4ddd59",
   "metadata": {},
   "source": [
    "#### Input Function"
   ]
  },
  {
   "cell_type": "code",
   "execution_count": 14,
   "id": "0e1d8f6d",
   "metadata": {},
   "outputs": [
    {
     "name": "stdout",
     "output_type": "stream",
     "text": [
      "Enter the first number: 23\n",
      "Enter the second number: 34\n",
      "2334\n"
     ]
    }
   ],
   "source": [
    "num1 = input(\"Enter the first number: \")\n",
    "num2 = input(\"Enter the second number: \")\n",
    "sum = num1 + num2\n",
    "print(sum)                       # Here it will take input as string by default"
   ]
  },
  {
   "cell_type": "code",
   "execution_count": 15,
   "id": "8ce6a6a2",
   "metadata": {},
   "outputs": [
    {
     "name": "stdout",
     "output_type": "stream",
     "text": [
      "Enter the first number: 10\n",
      "Enter the second number: 20\n",
      "30\n"
     ]
    }
   ],
   "source": [
    "num1 = int(input(\"Enter the first number: \"))\n",
    "num2 = int(input(\"Enter the second number: \"))\n",
    "sum = num1 + num2\n",
    "print(sum)"
   ]
  },
  {
   "cell_type": "code",
   "execution_count": 16,
   "id": "c8e1b185",
   "metadata": {},
   "outputs": [
    {
     "name": "stdout",
     "output_type": "stream",
     "text": [
      "Enter the first number: 23\n",
      "Enter the second number: 34\n",
      "The Sum of the numbers are 57\n"
     ]
    }
   ],
   "source": [
    "num1 = int(input(\"Enter the first number: \"))\n",
    "num2 = int(input(\"Enter the second number: \"))\n",
    "sum = num1 + num2\n",
    "print(\"The Sum of the numbers are {}\".format(sum))"
   ]
  },
  {
   "cell_type": "code",
   "execution_count": 21,
   "id": "43e2e8c0",
   "metadata": {},
   "outputs": [
    {
     "name": "stdout",
     "output_type": "stream",
     "text": [
      "<class 'int'>\n",
      "5.0\n"
     ]
    }
   ],
   "source": [
    "# Changing the data type in python -> Typecasting\n",
    "num = 5\n",
    "print(type(num))\n",
    "print(float(num))"
   ]
  }
 ],
 "metadata": {
  "kernelspec": {
   "display_name": "Python 3 (ipykernel)",
   "language": "python",
   "name": "python3"
  },
  "language_info": {
   "codemirror_mode": {
    "name": "ipython",
    "version": 3
   },
   "file_extension": ".py",
   "mimetype": "text/x-python",
   "name": "python",
   "nbconvert_exporter": "python",
   "pygments_lexer": "ipython3",
   "version": "3.9.13"
  }
 },
 "nbformat": 4,
 "nbformat_minor": 5
}
